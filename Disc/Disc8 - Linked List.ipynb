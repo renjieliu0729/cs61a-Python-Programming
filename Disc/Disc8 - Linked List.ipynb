{
 "cells": [
  {
   "cell_type": "code",
   "execution_count": 1,
   "metadata": {},
   "outputs": [],
   "source": [
    "class A:\n",
    "    def __init__(self, x):\n",
    "        self.x = x\n",
    "\n",
    "    def __repr__(self):\n",
    "         return self.x\n",
    "\n",
    "    def __str__(self):\n",
    "         return self.x * 2\n",
    "\n",
    "class B:\n",
    "    def __init__(self):\n",
    "         print('boo!')\n",
    "         self.a = []\n",
    "\n",
    "    def add_a(self, a):\n",
    "         self.a.append(a)\n",
    "\n",
    "    def __repr__(self):\n",
    "         print(len(self.a))\n",
    "         ret = ''\n",
    "         for a in self.a:\n",
    "             ret += str(a)\n",
    "         return ret"
   ]
  },
  {
   "cell_type": "code",
   "execution_count": 2,
   "metadata": {},
   "outputs": [
    {
     "data": {
      "text/plain": [
       "one"
      ]
     },
     "execution_count": 2,
     "metadata": {},
     "output_type": "execute_result"
    }
   ],
   "source": [
    "A('one')"
   ]
  },
  {
   "cell_type": "code",
   "execution_count": 3,
   "metadata": {},
   "outputs": [
    {
     "name": "stdout",
     "output_type": "stream",
     "text": [
      "oneone\n"
     ]
    }
   ],
   "source": [
    "print(A('one'))"
   ]
  },
  {
   "cell_type": "code",
   "execution_count": 4,
   "metadata": {},
   "outputs": [
    {
     "data": {
      "text/plain": [
       "'two'"
      ]
     },
     "execution_count": 4,
     "metadata": {},
     "output_type": "execute_result"
    }
   ],
   "source": [
    "repr(A('two'))"
   ]
  },
  {
   "cell_type": "code",
   "execution_count": 5,
   "metadata": {},
   "outputs": [
    {
     "name": "stdout",
     "output_type": "stream",
     "text": [
      "boo!\n"
     ]
    }
   ],
   "source": [
    " b = B()"
   ]
  },
  {
   "cell_type": "code",
   "execution_count": 7,
   "metadata": {},
   "outputs": [
    {
     "name": "stdout",
     "output_type": "stream",
     "text": [
      "3\n"
     ]
    },
    {
     "data": {
      "text/plain": [
       "aaaabb"
      ]
     },
     "execution_count": 7,
     "metadata": {},
     "output_type": "execute_result"
    }
   ],
   "source": [
    "b.add_a(A('a'))\n",
    "b.add_a(A('b'))\n",
    "b"
   ]
  },
  {
   "cell_type": "code",
   "execution_count": 9,
   "metadata": {},
   "outputs": [],
   "source": [
    "class Link:\n",
    "    \"\"\"A linked list.\"\"\"\n",
    "    empty = ()\n",
    "\n",
    "    def __init__(self, first, rest=empty):\n",
    "        assert rest is Link.empty or isinstance(rest, Link)\n",
    "        self.first = first\n",
    "        self.rest = rest\n",
    "\n",
    "    def __repr__(self):\n",
    "        if self.rest:\n",
    "            rest_repr = ', ' + repr(self.rest)\n",
    "        else:\n",
    "            rest_repr = ''\n",
    "        return 'Link(' + repr(self.first) + rest_repr + ')'\n",
    "\n",
    "    def __str__(self):\n",
    "        string = '<'\n",
    "        while self.rest is not Link.empty:\n",
    "            string += str(self.first) + ' '\n",
    "            self = self.rest\n",
    "        return string + str(self.first) + '>'"
   ]
  },
  {
   "cell_type": "code",
   "execution_count": 38,
   "metadata": {},
   "outputs": [],
   "source": [
    "ganondorf = Link('zelda', Link('link', Link('sheik', Link.empty)))"
   ]
  },
  {
   "cell_type": "code",
   "execution_count": 30,
   "metadata": {},
   "outputs": [
    {
     "data": {
      "text/plain": [
       "'<zelda link sheik>'"
      ]
     },
     "execution_count": 30,
     "metadata": {},
     "output_type": "execute_result"
    }
   ],
   "source": [
    "str(ganondorf)"
   ]
  },
  {
   "cell_type": "code",
   "execution_count": 39,
   "metadata": {},
   "outputs": [
    {
     "data": {
      "text/plain": [
       "Link('link', Link('sheik'))"
      ]
     },
     "execution_count": 39,
     "metadata": {},
     "output_type": "execute_result"
    }
   ],
   "source": [
    "link2 = ganondorf.rest\n",
    "link2"
   ]
  },
  {
   "cell_type": "code",
   "execution_count": 40,
   "metadata": {},
   "outputs": [
    {
     "data": {
      "text/plain": [
       "Link('zelda', Link('ganondorf', Link('sheik')))"
      ]
     },
     "execution_count": 40,
     "metadata": {},
     "output_type": "execute_result"
    }
   ],
   "source": [
    "ganondorf.rest.first = 'ganondorf'\n",
    "ganondorf.rest.rest = link2.rest\n",
    "ganondorf\n"
   ]
  },
  {
   "cell_type": "code",
   "execution_count": 43,
   "metadata": {},
   "outputs": [],
   "source": [
    "def sum_nums(s):\n",
    "    \"\"\"\n",
    "    >>> a = Link(1, Link(6, Link(7)))\n",
    "    >>> sum_nums(a)\n",
    "    14\n",
    "    \"\"\"\n",
    "    \"*** YOUR CODE HERE ***\"\n",
    "    if s.rest is Link.empty :\n",
    "        return s.first\n",
    "    else:\n",
    "        return s.first + sum_nums(s.rest)\n",
    "\n"
   ]
  },
  {
   "cell_type": "code",
   "execution_count": 44,
   "metadata": {},
   "outputs": [
    {
     "data": {
      "text/plain": [
       "14"
      ]
     },
     "execution_count": 44,
     "metadata": {},
     "output_type": "execute_result"
    }
   ],
   "source": [
    "a = Link(1, Link(6, Link(7)))\n",
    "sum_nums(a)"
   ]
  },
  {
   "cell_type": "code",
   "execution_count": 48,
   "metadata": {},
   "outputs": [],
   "source": [
    "def multiply_lnks(lst_of_lnks):\n",
    "    \"\"\"\n",
    "    >>> a = Link(2, Link(3, Link(5)))\n",
    "    >>> b = Link(6, Link(4, Link(2)))\n",
    "    >>> c = Link(4, Link(1, Link(0, Link(2))))\n",
    "    >>> p = multiply_lnks([a, b, c])\n",
    "    >>> p.first\n",
    "    48\n",
    "    >>> p.rest.first\n",
    "    12\n",
    "    >>> p.rest.rest.rest is Link.empty\n",
    "    True\n",
    "    \"\"\"\n",
    "    # Implementation Note: you might not need all lines in this skeleton code\n",
    "    result = Link(lst_of_lnks[0].first)\n",
    "    current_result = result\n",
    "\n",
    "    for linked_list in lst_of_lnks[1:]:\n",
    "        if linked_list is Link.empty:\n",
    "            break\n",
    "    current_result.rest = Link(linked_list.first * current_result.first)\n",
    "    current_result = current_result.rest\n",
    "\n",
    "    return result"
   ]
  },
  {
   "cell_type": "code",
   "execution_count": 51,
   "metadata": {},
   "outputs": [
    {
     "data": {
      "text/plain": [
       "Link(2, Link(8))"
      ]
     },
     "execution_count": 51,
     "metadata": {},
     "output_type": "execute_result"
    }
   ],
   "source": [
    "a = Link(2, Link(3, Link(5)))\n",
    "b = Link(6, Link(4, Link(2)))\n",
    "c = Link(4, Link(1, Link(0, Link(2))))\n",
    "multiply_lnks([a, b,c])"
   ]
  },
  {
   "cell_type": "code",
   "execution_count": 73,
   "metadata": {},
   "outputs": [],
   "source": [
    "def flip_two(s):\n",
    "    \"\"\"\n",
    "    >>> one_lnk = Link(1)\n",
    "    >>> flip_two(one_lnk)\n",
    "    >>> one_lnk\n",
    "    Link(1)\n",
    "    >>> lnk = Link(1, Link(2, Link(3, Link(4, Link(5)))))\n",
    "    >>> flip_two(lnk)\n",
    "    >>> lnk\n",
    "    Link(2, Link(1, Link(4, Link(3, Link(5)))))\n",
    "    \"\"\"\n",
    "    \"*** YOUR CODE HERE ***\"\n",
    "\n",
    "    # For an extra challenge, try writing out an iterative approach as well below!\n",
    "    \"*** YOUR CODE HERE ***\"\n",
    "    if s is Link.empty or s.rest is Link.empty:\n",
    "        return\n",
    "        \n",
    "    s.first, s.rest.first = s.rest.first, s.first\n",
    "\n",
    "    # Recursively flip the rest of the list\n",
    "\n",
    "    flip_two(s.rest.rest)\n",
    "\n"
   ]
  },
  {
   "cell_type": "code",
   "execution_count": 74,
   "metadata": {},
   "outputs": [
    {
     "data": {
      "text/plain": [
       "Link(2, Link(1, Link(4, Link(3, Link(5)))))"
      ]
     },
     "execution_count": 74,
     "metadata": {},
     "output_type": "execute_result"
    }
   ],
   "source": [
    "lnk = Link(1, Link(2, Link(3, Link(4, Link(5)))))\n",
    "flip_two(lnk)\n",
    "lnk\n"
   ]
  },
  {
   "cell_type": "code",
   "execution_count": 75,
   "metadata": {},
   "outputs": [],
   "source": [
    "class Tree:\n",
    "    def __init__(self, label, branches=[]):\n",
    "        for b in branches:\n",
    "            assert isinstance(b, Tree)\n",
    "        self.label = label\n",
    "        self.branches = branches\n",
    "\n",
    "    def is_leaf(self):\n",
    "        return not self.branches"
   ]
  },
  {
   "cell_type": "code",
   "execution_count": 77,
   "metadata": {},
   "outputs": [],
   "source": [
    "def make_even(t):\n",
    "    \"\"\"\n",
    "    >>> t = Tree(1, [Tree(2, [Tree(3)]), Tree(4), Tree(5)])\n",
    "    >>> make_even(t)\n",
    "    >>> t.label\n",
    "    2\n",
    "    >>> t.branches[0].branches[0].label\n",
    "    4\n",
    "    \"\"\"\n",
    "    \"*** YOUR CODE HERE ***\"\n",
    "    if t.is_leaf:\n",
    "        if t.label % 2 != 0 :\n",
    "            t.label = t.label + 1\n",
    "    for branch in t.branches :\n",
    "        make_even(branch)\n",
    "    "
   ]
  },
  {
   "cell_type": "code",
   "execution_count": 78,
   "metadata": {},
   "outputs": [
    {
     "data": {
      "text/plain": [
       "<__main__.Tree at 0x7fb9c3c04ac0>"
      ]
     },
     "execution_count": 78,
     "metadata": {},
     "output_type": "execute_result"
    }
   ],
   "source": [
    "t = Tree(1, [Tree(2, [Tree(3)]), Tree(4), Tree(5)])\n",
    "make_even(t)\n",
    "t"
   ]
  },
  {
   "cell_type": "code",
   "execution_count": 79,
   "metadata": {},
   "outputs": [
    {
     "data": {
      "text/plain": [
       "2"
      ]
     },
     "execution_count": 79,
     "metadata": {},
     "output_type": "execute_result"
    }
   ],
   "source": [
    "t.label"
   ]
  },
  {
   "cell_type": "code",
   "execution_count": 80,
   "metadata": {},
   "outputs": [
    {
     "data": {
      "text/plain": [
       "4"
      ]
     },
     "execution_count": 80,
     "metadata": {},
     "output_type": "execute_result"
    }
   ],
   "source": [
    "t.branches[0].branches[0].label"
   ]
  },
  {
   "cell_type": "code",
   "execution_count": 82,
   "metadata": {},
   "outputs": [
    {
     "data": {
      "text/plain": [
       "6"
      ]
     },
     "execution_count": 82,
     "metadata": {},
     "output_type": "execute_result"
    }
   ],
   "source": [
    "t.branches[2].label"
   ]
  },
  {
   "cell_type": "code",
   "execution_count": null,
   "metadata": {},
   "outputs": [],
   "source": [
    "def add_d_leaves(t, v):\n",
    "    \"\"\"Add d leaves containing v to each node at every depth d.\n",
    "\n",
    "    >>> t_one_to_four = Tree(1, [Tree(2), Tree(3, [Tree(4)])])\n",
    "    >>> print(t_one_to_four)\n",
    "    1\n",
    "      2\n",
    "      3\n",
    "        4\n",
    "    >>> add_d_leaves(t_one_to_four, 5)\n",
    "    >>> print(t_one_to_four)\n",
    "    1\n",
    "      2\n",
    "        5\n",
    "      3\n",
    "        4\n",
    "          5\n",
    "          5\n",
    "        5\n",
    "\n",
    "    >>> t1 = Tree(1, [Tree(3)])\n",
    "    >>> add_d_leaves(t1, 4)\n",
    "    >>> t1\n",
    "    Tree(1, [Tree(3, [Tree(4)])])\n",
    "    >>> t2 = Tree(2, [Tree(5), Tree(6)])\n",
    "    >>> t3 = Tree(3, [t1, Tree(0), t2])\n",
    "    >>> print(t3)\n",
    "    3\n",
    "      1\n",
    "        3\n",
    "          4\n",
    "      0\n",
    "      2\n",
    "        5\n",
    "        6\n",
    "    >>> add_d_leaves(t3, 10)\n",
    "    >>> print(t3)\n",
    "    3\n",
    "      1\n",
    "        3\n",
    "          4\n",
    "            10\n",
    "            10\n",
    "            10\n",
    "          10\n",
    "          10\n",
    "        10\n",
    "      0\n",
    "        10\n",
    "      2\n",
    "        5\n",
    "          10\n",
    "          10\n",
    "        6\n",
    "          10\n",
    "          10\n",
    "        10\n",
    "    \"\"\"\n",
    "    \"*** YOUR CODE HERE ***\"\n",
    "\n"
   ]
  }
 ],
 "metadata": {
  "kernelspec": {
   "display_name": "base",
   "language": "python",
   "name": "python3"
  },
  "language_info": {
   "codemirror_mode": {
    "name": "ipython",
    "version": 3
   },
   "file_extension": ".py",
   "mimetype": "text/x-python",
   "name": "python",
   "nbconvert_exporter": "python",
   "pygments_lexer": "ipython3",
   "version": "3.8.8"
  },
  "orig_nbformat": 4
 },
 "nbformat": 4,
 "nbformat_minor": 2
}
