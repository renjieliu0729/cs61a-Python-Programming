{
 "cells": [
  {
   "cell_type": "code",
   "execution_count": 1,
   "metadata": {},
   "outputs": [],
   "source": [
    "class Email:\n",
    "    \"\"\"Every email object has 3 instance attributes: the\n",
    "    message, the sender name, and the recipient name.\n",
    "    >>> email = Email('hello', 'Alice', 'Bob')\n",
    "    >>> email.msg\n",
    "    'hello'\n",
    "    >>> email.sender_name\n",
    "    'Alice'\n",
    "    >>> email.recipient_name\n",
    "    'Bob'\n",
    "    \"\"\"\n",
    "    def __init__(self, msg, sender_name, recipient_name):\n",
    "        self.msg = msg \n",
    "        self.sender_name = 'Alice'\n",
    "        self.recipient_name = 'Bob'"
   ]
  },
  {
   "cell_type": "code",
   "execution_count": 2,
   "metadata": {},
   "outputs": [
    {
     "data": {
      "text/plain": [
       "'hello'"
      ]
     },
     "execution_count": 2,
     "metadata": {},
     "output_type": "execute_result"
    }
   ],
   "source": [
    "email = Email('hello', 'Alice', 'Bob')\n",
    "email.msg"
   ]
  },
  {
   "cell_type": "code",
   "execution_count": 3,
   "metadata": {},
   "outputs": [
    {
     "data": {
      "text/plain": [
       "'Alice'"
      ]
     },
     "execution_count": 3,
     "metadata": {},
     "output_type": "execute_result"
    }
   ],
   "source": [
    "email.sender_name\n",
    "'Alice'"
   ]
  },
  {
   "cell_type": "code",
   "execution_count": 6,
   "metadata": {},
   "outputs": [],
   "source": [
    "class Server:\n",
    "    \"\"\"Each Server has an instance attribute clients, which\n",
    "    is a dictionary that associates client names with\n",
    "    client objects.\n",
    "    \"\"\"\n",
    "    def __init__(self):\n",
    "        self.clients = {}\n",
    "\n",
    "    def send(self, email):\n",
    "        \"\"\"Take an email and put it in the inbox of the client\n",
    "        it is addressed to.\n",
    "        \"\"\"\n",
    "        \"*** YOUR CODE HERE ***\"\n",
    "        self.clients[email.recipient_name].inbox.append(email)\n",
    "        \n",
    "        \n",
    "\n",
    "    def register_client(self, client, client_name):\n",
    "        \"\"\"Takes a client object and client_name and adds them\n",
    "        to the clients instance attribute.\n",
    "        \"\"\"\n",
    "        \"*** YOUR CODE HERE ***\"\n"
   ]
  },
  {
   "cell_type": "code",
   "execution_count": 14,
   "metadata": {},
   "outputs": [],
   "source": [
    "class Client:\n",
    "    \"\"\"Every Client has instance attributes name (which is\n",
    "    used for addressing emails to the client), server\n",
    "    (which is used to send emails out to other clients), and\n",
    "    inbox (a list of all emails the client has received).\n",
    "\n",
    "    >>> s = Server()\n",
    "    >>> a = Client(s, 'Alice')\n",
    "    >>> b = Client(s, 'Bob')\n",
    "    >>> a.compose('Hello, World!', 'Bob')\n",
    "    >>> b.inbox[0].msg\n",
    "    'Hello, World!'\n",
    "    >>> a.compose('CS 61A Rocks!', 'Bob')\n",
    "    >>> len(b.inbox)\n",
    "    2\n",
    "    >>> b.inbox[1].msg\n",
    "    'CS 61A Rocks!'\n",
    "    \"\"\"\n",
    "    def __init__(self, server, name):\n",
    "        self.inbox = []\n",
    "        \"*** YOUR CODE HERE ***\"\n",
    "        server.clients[name] = self\n",
    "        self.server = server\n",
    "\n",
    "    def compose(self, msg, recipient_name):\n",
    "        \"\"\"Send an email with the given message msg to the\n",
    "        given recipient client.\n",
    "        \"\"\"\n",
    "        \"*** YOUR CODE HERE ***\"\n",
    "        self.server.send(Email(msg,self,self.server.clients[recipient_name]))\n",
    "\n",
    "    def receive(self, email):\n",
    "        \"\"\"Take an email and add it to the inbox of this\n",
    "        client.\n",
    "        \"\"\"\n",
    "        \"*** YOUR CODE HERE ***\"\n",
    "        self.inbox.append(email)\n",
    "\n"
   ]
  },
  {
   "cell_type": "code",
   "execution_count": 15,
   "metadata": {},
   "outputs": [],
   "source": [
    "s = Server()\n",
    "a = Client(s, 'Alice')\n",
    "b = Client(s, 'Bob')\n",
    "a.compose('Hello, World!', 'Bob')\n"
   ]
  },
  {
   "cell_type": "code",
   "execution_count": 16,
   "metadata": {},
   "outputs": [
    {
     "data": {
      "text/plain": [
       "'Hello, World!'"
      ]
     },
     "execution_count": 16,
     "metadata": {},
     "output_type": "execute_result"
    }
   ],
   "source": [
    "b.inbox[0].msg"
   ]
  },
  {
   "cell_type": "code",
   "execution_count": 17,
   "metadata": {},
   "outputs": [
    {
     "data": {
      "text/plain": [
       "'CS 61A Rocks!'"
      ]
     },
     "execution_count": 17,
     "metadata": {},
     "output_type": "execute_result"
    }
   ],
   "source": [
    "a.compose('CS 61A Rocks!', 'Bob')\n",
    "len(b.inbox)\n",
    "b.inbox[1].msg"
   ]
  },
  {
   "cell_type": "code",
   "execution_count": 19,
   "metadata": {},
   "outputs": [],
   "source": [
    "class Pet:\n",
    "\n",
    "    def __init__(self, name, owner):\n",
    "        self.is_alive = True    # It's alive!!!\n",
    "        self.name = name\n",
    "        self.owner = owner\n",
    "\n",
    "    def eat(self, thing):\n",
    "        print(self.name + \" ate a \" + str(thing) + \"!\")\n",
    "\n",
    "    def talk(self):\n",
    "        print(self.name)\n",
    "\n",
    "class Dog(Pet):\n",
    "\n",
    "    def talk(self):\n",
    "        super().talk()\n",
    "        print('This Dog says woof!')"
   ]
  },
  {
   "cell_type": "code",
   "execution_count": 26,
   "metadata": {},
   "outputs": [],
   "source": [
    "class Cat(Pet):\n",
    "\n",
    "    def __init__(self, name, owner, lives=9):\n",
    "        \"*** YOUR CODE HERE ***\"\n",
    "        self.name = name\n",
    "        self.owner = owner\n",
    "        self.lives = lives\n",
    "\n",
    "    def talk(self):\n",
    "        \"\"\"Print out a cat's greeting.\n",
    "\n",
    "        >>> Cat('Thomas', 'Tammy').talk()\n",
    "        Thomas says meow!\n",
    "        \"\"\"\n",
    "        \"*** YOUR CODE HERE ***\"\n",
    "        print(self.name + ' says meow!')\n",
    "\n",
    "    def lose_life(self):\n",
    "        \"\"\"Decrements a cat's life by 1. When lives reaches zero,\n",
    "        is_alive becomes False. If this is called after lives has\n",
    "        reached zero, print 'This cat has no more lives to lose.'\n",
    "        \"\"\"\n",
    "        \"*** YOUR CODE HERE ***\"\n",
    "        if self.lives == 0 :\n",
    "            print('This cat has no more lives to lose.')\n",
    "        else:\n",
    "            self.lives = self.lives - 1\n",
    "            if self.lives == 0:\n",
    "                self.is_alive = False\n"
   ]
  },
  {
   "cell_type": "code",
   "execution_count": 27,
   "metadata": {},
   "outputs": [
    {
     "name": "stdout",
     "output_type": "stream",
     "text": [
      "Thomas says meow!\n"
     ]
    }
   ],
   "source": [
    "Cat('Thomas', 'Tammy').talk()"
   ]
  },
  {
   "cell_type": "code",
   "execution_count": 28,
   "metadata": {},
   "outputs": [
    {
     "name": "stdout",
     "output_type": "stream",
     "text": [
      "This cat has no more lives to lose.\n",
      "This cat has no more lives to lose.\n"
     ]
    }
   ],
   "source": [
    "cat1 = Cat('Thomas', 'Tammy')\n",
    "for _ in range(11):\n",
    "    cat1.lose_life()"
   ]
  },
  {
   "cell_type": "code",
   "execution_count": 30,
   "metadata": {},
   "outputs": [],
   "source": [
    "class NoisyCat(Cat): # Fill me in!\n",
    "    \"\"\"A Cat that repeats things twice.\"\"\"\n",
    "    def __init__(self, name, owner, lives=9):\n",
    "        # Is this method necessary? Why or why not?\n",
    "        \"*** YOUR CODE HERE ***\"\n",
    "        self.name = name\n",
    "        self.owner = owner\n",
    "        self.lives = lives\n",
    "\n",
    "    def talk(self):\n",
    "        \"\"\"Talks twice as much as a regular cat.\n",
    "        >>> NoisyCat('Magic', 'James').talk()\n",
    "        Magic says meow!\n",
    "        Magic says meow!\n",
    "        \"\"\"\n",
    "        \"*** YOUR CODE HERE ***\"\n",
    "        super().talk()\n",
    "        super().talk()\n",
    "\n",
    "\n"
   ]
  },
  {
   "cell_type": "code",
   "execution_count": 31,
   "metadata": {},
   "outputs": [
    {
     "name": "stdout",
     "output_type": "stream",
     "text": [
      "AMZ says meow!\n",
      "AMZ says meow!\n"
     ]
    }
   ],
   "source": [
    "cat2 = NoisyCat('AMZ','JB',100)\n",
    "cat2.talk()"
   ]
  },
  {
   "cell_type": "code",
   "execution_count": 32,
   "metadata": {},
   "outputs": [],
   "source": [
    "class Cat:\n",
    "    def __init__(self, name, owner, lives=9):\n",
    "        self.is_alive = True\n",
    "        self.name = name\n",
    "        self.owner = owner\n",
    "        self.lives = lives\n",
    "\n",
    "    def talk(self):\n",
    "        return self.name + ' says meow!'\n",
    "\n",
    "    @classmethod\n",
    "    def cat_creator(cls, owner):\n",
    "        \"\"\"\n",
    "        Returns a new instance of a Cat.\n",
    "\n",
    "        This instance's name is \"[owner]'s Cat\", with \n",
    "        [owner] being the name of its owner.\n",
    "\n",
    "        >>> cat1 = Cat.cat_creator(\"Bryce\")\n",
    "        >>> isinstance(cat1, Cat)\n",
    "        True\n",
    "        >>> cat1.owner\n",
    "        'Bryce'\n",
    "        >>> cat1.name\n",
    "        \"Bryce's Cat\"\n",
    "        >>> cat2 = Cat.cat_creator(\"Tyler\")\n",
    "        >>> cat2.owner\n",
    "        'Tyler'\n",
    "        >>> cat2.name\n",
    "        \"Tyler's Cat\"\n",
    "        \"\"\"\n",
    "        name = owner + \"'s Cat\"\n",
    "        return cls(name, owner)\n",
    "\n"
   ]
  },
  {
   "cell_type": "code",
   "execution_count": 33,
   "metadata": {},
   "outputs": [
    {
     "data": {
      "text/plain": [
       "True"
      ]
     },
     "execution_count": 33,
     "metadata": {},
     "output_type": "execute_result"
    }
   ],
   "source": [
    "cat1 = Cat.cat_creator(\"Bryce\")\n",
    "isinstance(cat1, Cat)"
   ]
  },
  {
   "cell_type": "code",
   "execution_count": 34,
   "metadata": {},
   "outputs": [
    {
     "data": {
      "text/plain": [
       "'Bryce'"
      ]
     },
     "execution_count": 34,
     "metadata": {},
     "output_type": "execute_result"
    }
   ],
   "source": [
    "cat1.owner"
   ]
  },
  {
   "cell_type": "code",
   "execution_count": 35,
   "metadata": {},
   "outputs": [
    {
     "data": {
      "text/plain": [
       "\"Bryce's Cat\""
      ]
     },
     "execution_count": 35,
     "metadata": {},
     "output_type": "execute_result"
    }
   ],
   "source": [
    "cat1.name"
   ]
  },
  {
   "cell_type": "code",
   "execution_count": 36,
   "metadata": {},
   "outputs": [
    {
     "data": {
      "text/plain": [
       "\"Tyler's Cat\""
      ]
     },
     "execution_count": 36,
     "metadata": {},
     "output_type": "execute_result"
    }
   ],
   "source": [
    "cat2 = Cat.cat_creator(\"Tyler\")\n",
    "cat2.name"
   ]
  }
 ],
 "metadata": {
  "kernelspec": {
   "display_name": "base",
   "language": "python",
   "name": "python3"
  },
  "language_info": {
   "codemirror_mode": {
    "name": "ipython",
    "version": 3
   },
   "file_extension": ".py",
   "mimetype": "text/x-python",
   "name": "python",
   "nbconvert_exporter": "python",
   "pygments_lexer": "ipython3",
   "version": "3.8.8"
  },
  "orig_nbformat": 4
 },
 "nbformat": 4,
 "nbformat_minor": 2
}
