{
 "cells": [
  {
   "cell_type": "code",
   "execution_count": 2,
   "metadata": {},
   "outputs": [],
   "source": [
    "def count_k(n, k):\n",
    "    \"\"\" Counts the number of paths up a flight of n stairs\n",
    "    when taking up to and including k steps at a time.\n",
    "    >>> count_k(3, 3) # 3, 2 + 1, 1 + 2, 1 + 1 + 1\n",
    "    4\n",
    "    >>> count_k(4, 4)\n",
    "    8\n",
    "    >>> count_k(10, 3)\n",
    "    274\n",
    "    >>> count_k(300, 1) # Only one step at a time\n",
    "    1\n",
    "    \"\"\"\n",
    "    if n == 0:\n",
    "        return 1\n",
    "    elif n < 0:\n",
    "        return 0\n",
    "    else:\n",
    "        total = 0\n",
    "        for i in range(1, k + 1):\n",
    "            total += count_k(n - i, k)\n",
    "        return total\n",
    "\n"
   ]
  },
  {
   "cell_type": "code",
   "execution_count": 3,
   "metadata": {},
   "outputs": [
    {
     "data": {
      "text/plain": [
       "274"
      ]
     },
     "execution_count": 3,
     "metadata": {},
     "output_type": "execute_result"
    }
   ],
   "source": [
    "count_k(10, 3)"
   ]
  },
  {
   "cell_type": "markdown",
   "metadata": {},
   "source": [
    "WWPD"
   ]
  },
  {
   "cell_type": "markdown",
   "metadata": {},
   "source": [
    ">>> a = [1, 5, 4, [2, 3], 3]\n",
    ">>> print(a[0], a[-1])"
   ]
  },
  {
   "cell_type": "markdown",
   "metadata": {},
   "source": [
    "(1,3)"
   ]
  },
  {
   "cell_type": "code",
   "execution_count": 4,
   "metadata": {},
   "outputs": [
    {
     "name": "stdout",
     "output_type": "stream",
     "text": [
      "1 3\n"
     ]
    }
   ],
   "source": [
    "a = [1, 5, 4, [2, 3], 3]\n",
    "print(a[0], a[-1])"
   ]
  },
  {
   "cell_type": "markdown",
   "metadata": {},
   "source": [
    ">>>len(a)\n",
    "return 5"
   ]
  },
  {
   "cell_type": "markdown",
   "metadata": {},
   "source": [
    "2 in a\n",
    "False"
   ]
  },
  {
   "cell_type": "markdown",
   "metadata": {},
   "source": [
    "a[3][0]\n",
    "2"
   ]
  },
  {
   "cell_type": "markdown",
   "metadata": {},
   "source": []
  },
  {
   "cell_type": "code",
   "execution_count": 8,
   "metadata": {},
   "outputs": [],
   "source": [
    "def even_weighted(s):\n",
    "    \"\"\"\n",
    "    >>> x = [1, 2, 3, 4, 5, 6]\n",
    "    >>> even_weighted(x)\n",
    "    [0, 6, 20]\n",
    "    \"\"\"\n",
    "    return [s[i]*i for i in range(0,len(s)) if i%2==0]\n",
    "\n"
   ]
  },
  {
   "cell_type": "code",
   "execution_count": 9,
   "metadata": {},
   "outputs": [
    {
     "data": {
      "text/plain": [
       "[0, 6, 20]"
      ]
     },
     "execution_count": 9,
     "metadata": {},
     "output_type": "execute_result"
    }
   ],
   "source": [
    "even_weighted([1, 2, 3, 4, 5, 6])"
   ]
  },
  {
   "cell_type": "code",
   "execution_count": 16,
   "metadata": {},
   "outputs": [],
   "source": [
    "def max_product(s):\n",
    "    \"\"\"Return the maximum product that can be formed using\n",
    "    non-consecutive elements of s.\n",
    "    >>> max_product([10,3,1,9,2]) # 10 * 9\n",
    "    90\n",
    "    >>> max_product([5,10,5,10,5]) # 5 * 5 * 5\n",
    "    125\n",
    "    >>> max_product([])\n",
    "    1\n",
    "    \"\"\"\n",
    "    if s==[]: \n",
    "        return 1 \n",
    "    elif len(s)==1: \n",
    "        return s[0] \n",
    "    else: \n",
    "        return max(max_product(s[1:]),s[0]*max_product(s[2:]))\n",
    "\n"
   ]
  },
  {
   "cell_type": "code",
   "execution_count": 17,
   "metadata": {},
   "outputs": [
    {
     "data": {
      "text/plain": [
       "125"
      ]
     },
     "execution_count": 17,
     "metadata": {},
     "output_type": "execute_result"
    }
   ],
   "source": [
    "max_product([5,10,5,10,5])"
   ]
  }
 ],
 "metadata": {
  "kernelspec": {
   "display_name": "base",
   "language": "python",
   "name": "python3"
  },
  "language_info": {
   "codemirror_mode": {
    "name": "ipython",
    "version": 3
   },
   "file_extension": ".py",
   "mimetype": "text/x-python",
   "name": "python",
   "nbconvert_exporter": "python",
   "pygments_lexer": "ipython3",
   "version": "3.8.8"
  },
  "orig_nbformat": 4
 },
 "nbformat": 4,
 "nbformat_minor": 2
}
